{
 "cells": [
  {
   "cell_type": "markdown",
   "id": "37515694-e6b8-43f3-8431-887e7c88ef83",
   "metadata": {},
   "source": [
    "Data Science Tools and Ecosystem"
   ]
  },
  {
   "cell_type": "markdown",
   "id": "13246738-6445-42da-ad2a-9dfee569c16c",
   "metadata": {},
   "source": [
    "In this notebook, Data Science Tools and Ecosystem are summarized."
   ]
  },
  {
   "cell_type": "markdown",
   "id": "35c16ef4-fa9f-4418-9152-143f20b5ded6",
   "metadata": {},
   "source": [
    "**Objectives:**\n",
    "\n",
    "- List popular languages for Data Science  \n",
    "- List commonly used libraries in Data Science  \n",
    "- Create and format markdown cells in a Jupyter notebook  \n",
    "- Execute arithmetic expressions in Python  \n",
    "- Understand and use basic Git and GitHub features  \n"
   ]
  },
  {
   "cell_type": "markdown",
   "id": "b3c336a7-b631-4c1b-b4ce-1d7a096bf749",
   "metadata": {},
   "source": [
    "Some of the popular languages that Data Scientists use are:\n",
    "1. Python\n",
    "2. R\n",
    "3. C++"
   ]
  },
  {
   "cell_type": "markdown",
   "id": "4c731eaa-4a25-489d-8d9a-6bfbd5b57ad4",
   "metadata": {},
   "source": [
    "Some of the commonly used libraries used by Data Scientists include:\n",
    "1. Pandas\n",
    "2. NumPy\n",
    "3. Scikit-learn"
   ]
  },
  {
   "cell_type": "markdown",
   "id": "aee7d767-bf0c-4146-942a-b582078f6491",
   "metadata": {},
   "source": [
    "| Data Science Tools        |\n",
    "|---------------------------|\n",
    "| Jupyter Notebook          |\n",
    "| RStudio                   |\n",
    "| VS Code                   |\n"
   ]
  },
  {
   "cell_type": "markdown",
   "id": "47f456f8-d2c1-4e97-a01c-786e1f1bb1b8",
   "metadata": {},
   "source": [
    "Below are a few examples of evaluating arithmetic expressions in Python.\n",
    "\n",
    "- `3 + 5` evaluates to `8` → *Addition*\n",
    "- `10 - 4` evaluates to `6` → *Subtraction*\n",
    "- `7 * 6` evaluates to `42` → *Multiplication*\n",
    "- `12 / 4` evaluates to `3.0` → *Division*\n",
    "- `5 ** 2` evaluates to `25` → *Exponentiation*\n",
    "- `10 % 3` evaluates to `1` → *Modulus (remainder)*"
   ]
  },
  {
   "cell_type": "code",
   "execution_count": 2,
   "id": "cc7c0d31-90d1-4ec6-bd16-9a5ddcb7ba37",
   "metadata": {},
   "outputs": [
    {
     "data": {
      "text/plain": [
       "17"
      ]
     },
     "execution_count": 2,
     "metadata": {},
     "output_type": "execute_result"
    }
   ],
   "source": [
    "# This a simple arithmetic expression to mutiply then add integers.\n",
    "(3*4)+5"
   ]
  },
  {
   "cell_type": "code",
   "execution_count": 2,
   "id": "087d1093-4631-4dd3-a8f3-dc331c199f1a",
   "metadata": {},
   "outputs": [
    {
     "name": "stdout",
     "output_type": "stream",
     "text": [
      "3.3333333333333335\n"
     ]
    }
   ],
   "source": [
    "# This will convert 200 minutes to hours by diving by 60.\n",
    "minutes = 200\n",
    "hours = minutes/60\n",
    "print(hours)"
   ]
  },
  {
   "cell_type": "markdown",
   "id": "a72865ac-aa12-4c7e-bedd-dafdab8b085c",
   "metadata": {},
   "source": [
    "## Author\n",
    "\n",
    "Siddhartha Adak\n"
   ]
  }
 ],
 "metadata": {
  "kernelspec": {
   "display_name": "Python 3 (ipykernel)",
   "language": "python",
   "name": "python3"
  },
  "language_info": {
   "codemirror_mode": {
    "name": "ipython",
    "version": 3
   },
   "file_extension": ".py",
   "mimetype": "text/x-python",
   "name": "python",
   "nbconvert_exporter": "python",
   "pygments_lexer": "ipython3",
   "version": "3.12.8"
  }
 },
 "nbformat": 4,
 "nbformat_minor": 5
}
